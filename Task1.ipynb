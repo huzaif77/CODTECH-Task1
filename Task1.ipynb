{
 "cells": [
  {
   "cell_type": "code",
   "execution_count": 1,
   "id": "95ad34a4",
   "metadata": {},
   "outputs": [],
   "source": [
    "def get_letter_grade(average):\n",
    "    if average >= 90:\n",
    "        return 'A'\n",
    "    elif average >= 80:\n",
    "        return 'B'\n",
    "    elif average >= 70:\n",
    "        return 'C'\n",
    "    elif average >= 60:\n",
    "        return 'D'\n",
    "    else:\n",
    "        return 'F'"
   ]
  },
  {
   "cell_type": "code",
   "execution_count": 2,
   "id": "00b2786d-ba7f-45c8-8a35-1e0b96d827e9",
   "metadata": {},
   "outputs": [],
   "source": [
    "def calculate_gpa(letter_grade):\n",
    "    gpa_scale = {'A': 4.0, 'B': 3.0, 'C': 2.0, 'D': 1.0, 'F': 0.0}\n",
    "    return gpa_scale.get(letter_grade, 0.0)"
   ]
  },
  {
   "cell_type": "code",
   "execution_count": 3,
   "id": "5b63eb39",
   "metadata": {},
   "outputs": [],
   "source": [
    "def grade_manager():\n",
    "    print(\"Welcome to the Student Grade Manager\")\n",
    "    num_subjects = int(input(\"Enter the number of subjects: \"))\n",
    "    \n",
    "    total_grades = 0\n",
    "    \n",
    "    for _ in range(num_subjects):\n",
    "        subject = input(\"Enter the subject name: \")\n",
    "        grade = float(input(f\"Enter the grade for {subject}: \"))\n",
    "        total_grades += grade\n",
    "    \n",
    "    average = total_grades / num_subjects\n",
    "    letter_grade = get_letter_grade(average)\n",
    "    gpa = calculate_gpa(letter_grade)\n",
    "    \n",
    "    print(f\"\\nAverage Grade: {average:.2f}\")\n",
    "    print(f\"Letter Grade: {letter_grade}\")\n",
    "    print(f\"GPA: {gpa:.2f}\")"
   ]
  },
  {
   "cell_type": "code",
   "execution_count": 4,
   "id": "da591308-1032-4172-b10d-7c7d094ed94d",
   "metadata": {},
   "outputs": [
    {
     "name": "stdout",
     "output_type": "stream",
     "text": [
      "Welcome to the Student Grade Manager\n",
      "\n",
      "Average Grade: 68.75\n",
      "Letter Grade: D\n",
      "GPA: 1.00\n"
     ]
    }
   ],
   "source": [
    "# Call the grade manager function\n",
    "grade_manager()"
   ]
  }
 ],
 "metadata": {
  "kernelspec": {
   "display_name": "Python 3 (ipykernel)",
   "language": "python",
   "name": "python3"
  },
  "language_info": {
   "codemirror_mode": {
    "name": "ipython",
    "version": 3
   },
   "file_extension": ".py",
   "mimetype": "text/x-python",
   "name": "python",
   "nbconvert_exporter": "python",
   "pygments_lexer": "ipython3",
   "version": "3.12.4"
  }
 },
 "nbformat": 4,
 "nbformat_minor": 5
}
